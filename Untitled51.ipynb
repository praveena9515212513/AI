{
 "cells": [
  {
   "cell_type": "code",
   "execution_count": 1,
   "id": "dec7d7f6",
   "metadata": {
    "collapsed": true
   },
   "outputs": [
    {
     "name": "stdout",
     "output_type": "stream",
     "text": [
      "0 1 75\n",
      "0 3 118\n",
      "0 4 140\n",
      "1 2 71\n",
      "2 4 151\n",
      "3 5 111\n",
      "4 8 80\n",
      "4 9 99\n",
      "5 6 70\n",
      "6 7 75\n",
      "7 10 120\n",
      "8 12 146\n",
      "8 11 97\n",
      "9 12 211\n",
      "10 11 138\n",
      "11 12 101\n"
     ]
    }
   ],
   "source": [
    "from collections import defaultdict\n",
    "graph=defaultdict(list)\n",
    "E=16\n",
    "import numpy as np\n",
    "cost=np.zeros((13,13))\n",
    "for i in range(E):\n",
    "    a,b,c=[int(x) for x in input().split()]\n",
    "    graph[a].append(b)\n",
    "    cost[a][b]=c"
   ]
  },
  {
   "cell_type": "code",
   "execution_count": 2,
   "id": "ddfc5895",
   "metadata": {
    "collapsed": true
   },
   "outputs": [
    {
     "name": "stdout",
     "output_type": "stream",
     "text": [
      "366\n",
      "374\n",
      "380\n",
      "329\n",
      "253\n",
      "244\n",
      "241\n",
      "242\n",
      "193\n",
      "176\n",
      "160\n",
      "100\n",
      "0\n"
     ]
    }
   ],
   "source": [
    "h=[]\n",
    "N=13\n",
    "for i in range(N):\n",
    "    h.append(int(input()))"
   ]
  },
  {
   "cell_type": "code",
   "execution_count": null,
   "id": "f010f269",
   "metadata": {},
   "outputs": [],
   "source": [
    "s=0\n",
    "t=12\n",
    "queue=[s]\n",
    "visited=[s]\n",
    "astar(graph,h,s,t)"
   ]
  },
  {
   "cell_type": "code",
   "execution_count": null,
   "id": "e4320c8d",
   "metadata": {},
   "outputs": [],
   "source": [
    "for i in graph:\n",
    "    "
   ]
  },
  {
   "cell_type": "code",
   "execution_count": 5,
   "id": "9152660c",
   "metadata": {},
   "outputs": [
    {
     "data": {
      "text/plain": [
       "defaultdict(list,\n",
       "            {0: [1, 3, 4],\n",
       "             1: [2],\n",
       "             2: [4],\n",
       "             3: [5],\n",
       "             4: [8, 9],\n",
       "             5: [6],\n",
       "             6: [7],\n",
       "             7: [10],\n",
       "             8: [12, 11],\n",
       "             9: [12],\n",
       "             10: [11],\n",
       "             11: [12]})"
      ]
     },
     "execution_count": 5,
     "metadata": {},
     "output_type": "execute_result"
    }
   ],
   "source": [
    "graph"
   ]
  },
  {
   "cell_type": "code",
   "execution_count": null,
   "id": "0fd91d62",
   "metadata": {},
   "outputs": [],
   "source": [
    "def astar(graph,h,s,t):\n",
    "    pass\n",
    "    while(len(queue)>0):\n",
    "    \n",
    "    "
   ]
  }
 ],
 "metadata": {
  "kernelspec": {
   "display_name": "Python 3 (ipykernel)",
   "language": "python",
   "name": "python3"
  },
  "language_info": {
   "codemirror_mode": {
    "name": "ipython",
    "version": 3
   },
   "file_extension": ".py",
   "mimetype": "text/x-python",
   "name": "python",
   "nbconvert_exporter": "python",
   "pygments_lexer": "ipython3",
   "version": "3.9.7"
  }
 },
 "nbformat": 4,
 "nbformat_minor": 5
}
