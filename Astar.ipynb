{
 "cells": [
  {
   "cell_type": "code",
   "execution_count": 93,
   "id": "dec7d7f6",
   "metadata": {},
   "outputs": [
    {
     "name": "stdout",
     "output_type": "stream",
     "text": [
      "0 1 75\n",
      "0 3 118\n",
      "0 4 140\n",
      "1 2 71\n",
      "2 4 151\n",
      "3 5 111\n",
      "4 8 80\n",
      "4 9 99\n",
      "5 6 70\n",
      "6 7 75\n",
      "7 10 120\n",
      "8 10 146\n",
      "8 11 97\n",
      "9 12 211\n",
      "10 11 138\n",
      "11 12 101\n"
     ]
    }
   ],
   "source": [
    "from collections import defaultdict\n",
    "graph=defaultdict(list)\n",
    "E=16\n",
    "import numpy as np\n",
    "cost=np.zeros((13,13))\n",
    "for i in range(E):\n",
    "    a,b,c=[int(x) for x in input().split()]\n",
    "    graph[a].append(b)\n",
    "    graph[b].append(a)\n",
    "    cost[a][b]=c\n",
    "    cost[b][a]=c\n",
    "# 0 1 75\n",
    "# 0 3 118\n",
    "# 0 4 140\n",
    "# 1 2 71\n",
    "# 2 4 151\n",
    "# 3 5 111\n",
    "# 4 8 80\n",
    "# 4 9 99\n",
    "# 5 6 70\n",
    "# 6 7 75\n",
    "# 7 10 120\n",
    "# 8 10 146\n",
    "# 8 11 97\n",
    "# 9 12 211\n",
    "# 10 11 138\n",
    "# 11 12 101"
   ]
  },
  {
   "cell_type": "code",
   "execution_count": 64,
   "id": "9152660c",
   "metadata": {
    "scrolled": false
   },
   "outputs": [
    {
     "data": {
      "text/plain": [
       "defaultdict(list,\n",
       "            {0: [1, 3, 4],\n",
       "             1: [2],\n",
       "             2: [4],\n",
       "             3: [5],\n",
       "             4: [8, 9],\n",
       "             5: [6],\n",
       "             6: [7],\n",
       "             7: [10],\n",
       "             8: [10, 11],\n",
       "             9: [12],\n",
       "             10: [11],\n",
       "             11: [12]})"
      ]
     },
     "execution_count": 64,
     "metadata": {},
     "output_type": "execute_result"
    }
   ],
   "source": [
    "graph"
   ]
  },
  {
   "cell_type": "code",
   "execution_count": null,
   "id": "2e0b04b9",
   "metadata": {},
   "outputs": [],
   "source": []
  },
  {
   "cell_type": "code",
   "execution_count": 4,
   "id": "ddfc5895",
   "metadata": {},
   "outputs": [
    {
     "name": "stdout",
     "output_type": "stream",
     "text": [
      "366\n",
      "374\n",
      "380\n",
      "329\n",
      "253\n",
      "244\n",
      "241\n",
      "242\n",
      "193\n",
      "176\n",
      "160\n",
      "100\n",
      "0\n"
     ]
    }
   ],
   "source": [
    "h=[]\n",
    "N=13\n",
    "for i in range(N):\n",
    "    h.append(int(input()))\n",
    "# 366\n",
    "# 374\n",
    "# 380\n",
    "# 329\n",
    "# 253\n",
    "# 244\n",
    "# 241\n",
    "# 242\n",
    "# 193\n",
    "# 176\n",
    "# 160\n",
    "# 100\n",
    "# 0"
   ]
  },
  {
   "cell_type": "code",
   "execution_count": 94,
   "id": "0fd91d62",
   "metadata": {},
   "outputs": [],
   "source": [
    "def astar(graph,h,s,t):\n",
    "    while len(queue)>0:\n",
    "        print(queue)   \n",
    "        t=queue.pop(0)\n",
    "        if 12 in t:\n",
    "            print(\"Destination reached\")\n",
    "            return \n",
    "        visited.append(t)\n",
    "        x=t[2]\n",
    "        for i in graph[x]:\n",
    "#             print(abs(t[0]-h[t[1]]))\n",
    "            queue.append((t[1]+cost[t[2]][i]+h[i],cost[t[2]][i]+t[1],i))\n",
    "        queue.sort()    "
   ]
  },
  {
   "cell_type": "code",
   "execution_count": 56,
   "id": "e86b3150",
   "metadata": {},
   "outputs": [
    {
     "data": {
      "text/plain": [
       "[(0, 0), (393.0, 4), (273.0, 8), (197.0, 11)]"
      ]
     },
     "execution_count": 56,
     "metadata": {},
     "output_type": "execute_result"
    }
   ],
   "source": [
    "visited"
   ]
  },
  {
   "cell_type": "code",
   "execution_count": 95,
   "id": "f010f269",
   "metadata": {},
   "outputs": [
    {
     "name": "stdout",
     "output_type": "stream",
     "text": [
      "[(0, 0, 0)]\n",
      "[(393.0, 140.0, 4), (447.0, 118.0, 3), (449.0, 75.0, 1)]\n",
      "[(413.0, 220.0, 8), (415.0, 239.0, 9), (447.0, 118.0, 3), (449.0, 75.0, 1), (646.0, 280.0, 0), (671.0, 291.0, 2)]\n",
      "[(415.0, 239.0, 9), (417.0, 317.0, 11), (447.0, 118.0, 3), (449.0, 75.0, 1), (526.0, 366.0, 10), (553.0, 300.0, 4), (646.0, 280.0, 0), (671.0, 291.0, 2)]\n",
      "[(417.0, 317.0, 11), (447.0, 118.0, 3), (449.0, 75.0, 1), (450.0, 450.0, 12), (526.0, 366.0, 10), (553.0, 300.0, 4), (591.0, 338.0, 4), (646.0, 280.0, 0), (671.0, 291.0, 2)]\n",
      "[(418.0, 418.0, 12), (447.0, 118.0, 3), (449.0, 75.0, 1), (450.0, 450.0, 12), (526.0, 366.0, 10), (553.0, 300.0, 4), (591.0, 338.0, 4), (607.0, 414.0, 8), (615.0, 455.0, 10), (646.0, 280.0, 0), (671.0, 291.0, 2)]\n",
      "Destination reached\n"
     ]
    }
   ],
   "source": [
    "s=0\n",
    "t=12\n",
    "queue=[(0,0,0)]\n",
    "visited=[]\n",
    "astar(graph,h,s,t)"
   ]
  }
 ],
 "metadata": {
  "kernelspec": {
   "display_name": "Python 3 (ipykernel)",
   "language": "python",
   "name": "python3"
  },
  "language_info": {
   "codemirror_mode": {
    "name": "ipython",
    "version": 3
   },
   "file_extension": ".py",
   "mimetype": "text/x-python",
   "name": "python",
   "nbconvert_exporter": "python",
   "pygments_lexer": "ipython3",
   "version": "3.9.7"
  }
 },
 "nbformat": 4,
 "nbformat_minor": 5
}
