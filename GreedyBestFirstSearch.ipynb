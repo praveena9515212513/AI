{
 "cells": [
  {
   "cell_type": "code",
   "execution_count": 21,
   "id": "71c1a809",
   "metadata": {
    "collapsed": true
   },
   "outputs": [
    {
     "name": "stdout",
     "output_type": "stream",
     "text": [
      "0 1 4\n",
      "0 2 4\n",
      "0 3 4\n",
      "1 4 3\n",
      "2 3 2\n",
      "2 4 6\n",
      "2 6 3\n",
      "3 8 5\n",
      "4 5 2\n",
      "4 6 5\n",
      "5 7 5\n",
      "6 7 5\n",
      "7 9 6\n",
      "8 6 5\n",
      "8 9 1\n",
      "6 9 4\n"
     ]
    }
   ],
   "source": [
    "from collections import defaultdict\n",
    "graph=defaultdict(list)\n",
    "E=16\n",
    "import numpy as np\n",
    "cost=np.zeros((10,10))\n",
    "for i in range(E):\n",
    "    a,b,c=[int(x) for x in input().split()]\n",
    "    graph[a].append(b)\n",
    "    cost[a][b]=c"
   ]
  },
  {
   "cell_type": "code",
   "execution_count": 7,
   "id": "a54c41c2",
   "metadata": {
    "collapsed": true
   },
   "outputs": [
    {
     "name": "stdout",
     "output_type": "stream",
     "text": [
      "10\n",
      "11\n",
      "6\n",
      "8\n",
      "9\n",
      "9\n",
      "4\n",
      "6\n",
      "3\n",
      "0\n"
     ]
    },
    {
     "data": {
      "text/plain": [
       "[10, 11, 6, 8, 9, 9, 4, 6, 3, 0]"
      ]
     },
     "execution_count": 7,
     "metadata": {},
     "output_type": "execute_result"
    }
   ],
   "source": [
    "h=[]\n",
    "N=10\n",
    "for i in range(N):\n",
    "    h.append(int(input()))"
   ]
  },
  {
   "cell_type": "code",
   "execution_count": 42,
   "id": "f68df8da",
   "metadata": {},
   "outputs": [],
   "source": [
    "def greedyBestFirst(graph,h,s,t):\n",
    "    queue=[s]\n",
    "    visited=[s]\n",
    "    while(len(queue)>0):\n",
    "        min=10000\n",
    "        s=queue.pop()\n",
    "        for i in graph[s]:\n",
    "            if(min>h[i]):\n",
    "                min=h[i]\n",
    "                index=i\n",
    "        queue.append(index)\n",
    "        visited.append(index)\n",
    "        if t in visited:\n",
    "            print(\"Destination reached\")\n",
    "            print(\"Cost required to reach the destination is:\",end='')\n",
    "            total=0\n",
    "            for i in range(len(visited)-1):\n",
    "                total += cost[visited[i]][visited[i+1]]\n",
    "            print(total)\n",
    "            return"
   ]
  },
  {
   "cell_type": "code",
   "execution_count": 43,
   "id": "bc71b26e",
   "metadata": {},
   "outputs": [
    {
     "name": "stdout",
     "output_type": "stream",
     "text": [
      "Destination reached\n",
      "Cost required to reach the destination is:11.0\n"
     ]
    }
   ],
   "source": [
    "s=0\n",
    "t=9\n",
    "index=s\n",
    "greedyBestFirst(graph,h,s,t)"
   ]
  }
 ],
 "metadata": {
  "kernelspec": {
   "display_name": "Python 3 (ipykernel)",
   "language": "python",
   "name": "python3"
  },
  "language_info": {
   "codemirror_mode": {
    "name": "ipython",
    "version": 3
   },
   "file_extension": ".py",
   "mimetype": "text/x-python",
   "name": "python",
   "nbconvert_exporter": "python",
   "pygments_lexer": "ipython3",
   "version": "3.9.7"
  }
 },
 "nbformat": 4,
 "nbformat_minor": 5
}
