{
 "cells": [
  {
   "cell_type": "code",
   "execution_count": 41,
   "id": "346a6e53",
   "metadata": {},
   "outputs": [
    {
     "name": "stdout",
     "output_type": "stream",
     "text": [
      "Target reached\n",
      "[[0, 0], [1, 0]]\n"
     ]
    }
   ],
   "source": [
    "queue = [[[1,1],[0,1]]]\n",
    "visited=[]\n",
    "target=[[[1,0],[0,0]],[[0,0],[1,0]]]\n",
    "bfs()"
   ]
  },
  {
   "cell_type": "code",
   "execution_count": 40,
   "id": "3ca405c1",
   "metadata": {},
   "outputs": [],
   "source": [
    "def bfs():\n",
    "    while(len(queue)):\n",
    "        x = queue.pop(0)\n",
    "        visited.append(x)\n",
    "        if x in target:\n",
    "            print('Target reached')\n",
    "            print(x)\n",
    "            return\n",
    "        left = x[0]\n",
    "        right = x[1]\n",
    "        if left[0]:\n",
    "            if left[1]:\n",
    "                v=[[1,0],right]\n",
    "                if v not in visited and v not in queue:\n",
    "                    queue.append(v)\n",
    "            v=[[0,left[1]],[1,right[1]]]\n",
    "            if v not in visited and v not in queue:\n",
    "                queue.append(v)\n",
    "        if right[0]:\n",
    "            if right[1]:\n",
    "                v=[left,[1,0]]\n",
    "                if v not in visited and v not in queue:\n",
    "                    queue.append(v)\n",
    "            v = [[1,left[1]],[0,right[1]]]\n",
    "            if v not in visited and v not in queue:\n",
    "                queue.append(v)"
   ]
  },
  {
   "cell_type": "code",
   "execution_count": 42,
   "id": "1cd8c910",
   "metadata": {},
   "outputs": [
    {
     "data": {
      "text/plain": [
       "[[[1, 1], [0, 1]],\n",
       " [[1, 0], [0, 1]],\n",
       " [[0, 1], [1, 1]],\n",
       " [[0, 0], [1, 1]],\n",
       " [[0, 1], [1, 0]],\n",
       " [[0, 0], [1, 0]]]"
      ]
     },
     "execution_count": 42,
     "metadata": {},
     "output_type": "execute_result"
    }
   ],
   "source": [
    "visited"
   ]
  },
  {
   "cell_type": "code",
   "execution_count": null,
   "id": "e95bb298",
   "metadata": {},
   "outputs": [],
   "source": []
  }
 ],
 "metadata": {
  "kernelspec": {
   "display_name": "Python 3 (ipykernel)",
   "language": "python",
   "name": "python3"
  },
  "language_info": {
   "codemirror_mode": {
    "name": "ipython",
    "version": 3
   },
   "file_extension": ".py",
   "mimetype": "text/x-python",
   "name": "python",
   "nbconvert_exporter": "python",
   "pygments_lexer": "ipython3",
   "version": "3.9.7"
  }
 },
 "nbformat": 4,
 "nbformat_minor": 5
}
