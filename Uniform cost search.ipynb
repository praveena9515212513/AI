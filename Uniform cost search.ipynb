{
 "cells": [
  {
   "cell_type": "code",
   "execution_count": null,
   "id": "e5e04554",
   "metadata": {},
   "outputs": [],
   "source": [
    "def search(graph,node,openn,explored):\n",
    "    openn.append(0)\n",
    "    while openn:\n",
    "        m=openn.pop(0)\n",
    "        explored.append(m)\n",
    "        if(m==node):\n",
    "            print('Element found',explored)\n",
    "            return\n",
    "        else:\n",
    "            for neighbour in graph[m]:\n",
    "                if neighbour== node:\n",
    "                    explored.append(node)\n",
    "                    print('Element found',explored)\n",
    "                    return\n",
    "                elif neighbour not in explored and neighbour not in openn:\n",
    "                    openn.append(neighbour)\n",
    "if __name__ == '__main__':\n",
    "    graph={0:[1,2],1:[0,3,4],2:[0,3],3:[1,4],4:[1,3,5,6],5:[4,6],6:[4,5]}\n",
    "    openn=[]\n",
    "    explored=[]\n",
    "    search(graph,6,openn,explored)"
   ]
  }
 ],
 "metadata": {
  "kernelspec": {
   "display_name": "Python 3 (ipykernel)",
   "language": "python",
   "name": "python3"
  },
  "language_info": {
   "codemirror_mode": {
    "name": "ipython",
    "version": 3
   },
   "file_extension": ".py",
   "mimetype": "text/x-python",
   "name": "python",
   "nbconvert_exporter": "python",
   "pygments_lexer": "ipython3",
   "version": "3.9.7"
  }
 },
 "nbformat": 4,
 "nbformat_minor": 5
}
