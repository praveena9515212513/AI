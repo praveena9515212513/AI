{
 "cells": [
  {
   "cell_type": "code",
   "execution_count": 15,
   "id": "fb2e1b4e",
   "metadata": {},
   "outputs": [],
   "source": [
    "def bfs():\n",
    "    while(1):\n",
    "        if [[0,0],[3,3]] in boat:\n",
    "            print('Destination Reached')\n",
    "            return\n",
    "        if len(boat)>0:\n",
    "            x= boat.pop()\n",
    "            left = x[0]\n",
    "            right = x[1]\n",
    "            if left[0]>=2:\n",
    "                d=[[left[0]-2, left[1]],[right[0]+2, right[1]]]\n",
    "                print(d)\n",
    "                if (d[0][0]>=d[0][1] and d[1][0]>=d[1][1]) or (d[0][0]==0 or d[1][0]==0):\n",
    "                    if d not in total:\n",
    "                        boat.append(d)   \n",
    "                        total.append(d)                \n",
    "            if left[0]>=1:\n",
    "                d=[[left[0]-1, left[1]],[right[0]+1, right[1]]]\n",
    "                print(d)\n",
    "                if (d[0][0]>=d[0][1] and d[1][0]>=d[1][1]) or (d[0][0]==0 or d[1][0]==0):\n",
    "                    if d not in total:\n",
    "                        boat.append(d)\n",
    "                        total.append(d)                \n",
    "            if left[1]>=2:\n",
    "                d=[[left[0], left[1]-2],[right[0], right[1]+2]]\n",
    "                print(d)\n",
    "                if (d[0][0]>=d[0][1] and d[1][0]>=d[1][1]) or (d[0][0]==0 or d[1][0]==0):\n",
    "                    if d not in total:\n",
    "                        boat.append(d) \n",
    "                        total.append(d)                \n",
    "            if left[1]>=1:\n",
    "                d=[[left[0], left[1]-1],[right[0], right[1]+1]]\n",
    "                print(d)\n",
    "                if (d[0][0]>=d[0][1] and d[1][0]>=d[1][1]) or (d[0][0]==0 or d[1][0]==0):\n",
    "                    if d not in total:\n",
    "                        boat.append(d)\n",
    "                        total.append(d)                \n",
    "            if left[0]>=1 and left[1]>=1:\n",
    "                d=[[left[0]-1, left[1]-1],[right[0]+1,right[1]+1]]\n",
    "                print(d)\n",
    "                if (d[0][0]>=d[0][1] and d[1][0]>=d[1][1]) or (d[0][0]==0 or d[1][0]==0):\n",
    "                    if d not in total:\n",
    "                        boat.append(d)\n",
    "                        total.append(d)  \n",
    "            back()"
   ]
  },
  {
   "cell_type": "code",
   "execution_count": 17,
   "id": "f988a5ab",
   "metadata": {},
   "outputs": [
    {
     "name": "stdout",
     "output_type": "stream",
     "text": [
      "[[3, 3], [0, 0]]\n"
     ]
    },
    {
     "ename": "KeyboardInterrupt",
     "evalue": "",
     "output_type": "error",
     "traceback": [
      "\u001b[1;31m---------------------------------------------------------------------------\u001b[0m",
      "\u001b[1;31mKeyboardInterrupt\u001b[0m                         Traceback (most recent call last)",
      "\u001b[1;32m~\\AppData\\Local\\Temp/ipykernel_7132/542929049.py\u001b[0m in \u001b[0;36m<module>\u001b[1;34m\u001b[0m\n\u001b[0;32m      1\u001b[0m \u001b[0mboat\u001b[0m \u001b[1;33m=\u001b[0m\u001b[1;33m[\u001b[0m\u001b[1;33m[\u001b[0m\u001b[1;33m[\u001b[0m\u001b[1;36m3\u001b[0m\u001b[1;33m,\u001b[0m \u001b[1;36m1\u001b[0m\u001b[1;33m]\u001b[0m\u001b[1;33m,\u001b[0m \u001b[1;33m[\u001b[0m\u001b[1;36m0\u001b[0m\u001b[1;33m,\u001b[0m \u001b[1;36m2\u001b[0m\u001b[1;33m]\u001b[0m\u001b[1;33m]\u001b[0m\u001b[1;33m,\u001b[0m \u001b[1;33m[\u001b[0m\u001b[1;33m[\u001b[0m\u001b[1;36m3\u001b[0m\u001b[1;33m,\u001b[0m \u001b[1;36m2\u001b[0m\u001b[1;33m]\u001b[0m\u001b[1;33m,\u001b[0m \u001b[1;33m[\u001b[0m\u001b[1;36m0\u001b[0m\u001b[1;33m,\u001b[0m \u001b[1;36m1\u001b[0m\u001b[1;33m]\u001b[0m\u001b[1;33m]\u001b[0m\u001b[1;33m,\u001b[0m \u001b[1;33m[\u001b[0m\u001b[1;33m[\u001b[0m\u001b[1;36m2\u001b[0m\u001b[1;33m,\u001b[0m \u001b[1;36m2\u001b[0m\u001b[1;33m]\u001b[0m\u001b[1;33m,\u001b[0m \u001b[1;33m[\u001b[0m\u001b[1;36m1\u001b[0m\u001b[1;33m,\u001b[0m \u001b[1;36m1\u001b[0m\u001b[1;33m]\u001b[0m\u001b[1;33m]\u001b[0m\u001b[1;33m]\u001b[0m\u001b[1;33m\u001b[0m\u001b[1;33m\u001b[0m\u001b[0m\n\u001b[0;32m      2\u001b[0m \u001b[0mtotal\u001b[0m \u001b[1;33m=\u001b[0m\u001b[1;33m[\u001b[0m\u001b[1;33m[\u001b[0m\u001b[1;33m[\u001b[0m\u001b[1;36m3\u001b[0m\u001b[1;33m,\u001b[0m\u001b[1;36m3\u001b[0m\u001b[1;33m]\u001b[0m\u001b[1;33m,\u001b[0m\u001b[1;33m[\u001b[0m\u001b[1;36m0\u001b[0m\u001b[1;33m,\u001b[0m\u001b[1;36m0\u001b[0m\u001b[1;33m]\u001b[0m\u001b[1;33m]\u001b[0m\u001b[1;33m,\u001b[0m\u001b[1;33m[\u001b[0m\u001b[1;33m[\u001b[0m\u001b[1;36m3\u001b[0m\u001b[1;33m,\u001b[0m \u001b[1;36m1\u001b[0m\u001b[1;33m]\u001b[0m\u001b[1;33m,\u001b[0m \u001b[1;33m[\u001b[0m\u001b[1;36m0\u001b[0m\u001b[1;33m,\u001b[0m \u001b[1;36m2\u001b[0m\u001b[1;33m]\u001b[0m\u001b[1;33m]\u001b[0m\u001b[1;33m,\u001b[0m \u001b[1;33m[\u001b[0m\u001b[1;33m[\u001b[0m\u001b[1;36m3\u001b[0m\u001b[1;33m,\u001b[0m \u001b[1;36m2\u001b[0m\u001b[1;33m]\u001b[0m\u001b[1;33m,\u001b[0m \u001b[1;33m[\u001b[0m\u001b[1;36m0\u001b[0m\u001b[1;33m,\u001b[0m \u001b[1;36m1\u001b[0m\u001b[1;33m]\u001b[0m\u001b[1;33m]\u001b[0m\u001b[1;33m,\u001b[0m \u001b[1;33m[\u001b[0m\u001b[1;33m[\u001b[0m\u001b[1;36m2\u001b[0m\u001b[1;33m,\u001b[0m \u001b[1;36m2\u001b[0m\u001b[1;33m]\u001b[0m\u001b[1;33m,\u001b[0m \u001b[1;33m[\u001b[0m\u001b[1;36m1\u001b[0m\u001b[1;33m,\u001b[0m \u001b[1;36m1\u001b[0m\u001b[1;33m]\u001b[0m\u001b[1;33m]\u001b[0m\u001b[1;33m]\u001b[0m\u001b[1;33m\u001b[0m\u001b[1;33m\u001b[0m\u001b[0m\n\u001b[1;32m----> 3\u001b[1;33m \u001b[0mbfs\u001b[0m\u001b[1;33m(\u001b[0m\u001b[1;33m)\u001b[0m\u001b[1;33m\u001b[0m\u001b[1;33m\u001b[0m\u001b[0m\n\u001b[0m",
      "\u001b[1;32m~\\AppData\\Local\\Temp/ipykernel_7132/2476500405.py\u001b[0m in \u001b[0;36mbfs\u001b[1;34m()\u001b[0m\n\u001b[0;32m      1\u001b[0m \u001b[1;32mdef\u001b[0m \u001b[0mbfs\u001b[0m\u001b[1;33m(\u001b[0m\u001b[1;33m)\u001b[0m\u001b[1;33m:\u001b[0m\u001b[1;33m\u001b[0m\u001b[1;33m\u001b[0m\u001b[0m\n\u001b[0;32m      2\u001b[0m     \u001b[1;32mwhile\u001b[0m\u001b[1;33m(\u001b[0m\u001b[1;36m1\u001b[0m\u001b[1;33m)\u001b[0m\u001b[1;33m:\u001b[0m\u001b[1;33m\u001b[0m\u001b[1;33m\u001b[0m\u001b[0m\n\u001b[1;32m----> 3\u001b[1;33m         \u001b[1;32mif\u001b[0m \u001b[1;33m[\u001b[0m\u001b[1;33m[\u001b[0m\u001b[1;36m0\u001b[0m\u001b[1;33m,\u001b[0m\u001b[1;36m0\u001b[0m\u001b[1;33m]\u001b[0m\u001b[1;33m,\u001b[0m\u001b[1;33m[\u001b[0m\u001b[1;36m3\u001b[0m\u001b[1;33m,\u001b[0m\u001b[1;36m3\u001b[0m\u001b[1;33m]\u001b[0m\u001b[1;33m]\u001b[0m \u001b[1;32min\u001b[0m \u001b[0mboat\u001b[0m\u001b[1;33m:\u001b[0m\u001b[1;33m\u001b[0m\u001b[1;33m\u001b[0m\u001b[0m\n\u001b[0m\u001b[0;32m      4\u001b[0m             \u001b[0mprint\u001b[0m\u001b[1;33m(\u001b[0m\u001b[1;34m'Destination Reached'\u001b[0m\u001b[1;33m)\u001b[0m\u001b[1;33m\u001b[0m\u001b[1;33m\u001b[0m\u001b[0m\n\u001b[0;32m      5\u001b[0m             \u001b[1;32mreturn\u001b[0m\u001b[1;33m\u001b[0m\u001b[1;33m\u001b[0m\u001b[0m\n",
      "\u001b[1;31mKeyboardInterrupt\u001b[0m: "
     ]
    }
   ],
   "source": [
    "boat =[[[3, 1], [0, 2]], [[3, 2], [0, 1]], [[2, 2], [1, 1]]]\n",
    "total =[[[3,3],[0,0]],[[3, 1], [0, 2]], [[3, 2], [0, 1]], [[2, 2], [1, 1]]]\n",
    "bfs()"
   ]
  },
  {
   "cell_type": "code",
   "execution_count": 11,
   "id": "2adb2848",
   "metadata": {},
   "outputs": [
    {
     "name": "stdout",
     "output_type": "stream",
     "text": [
      "[[[3, 3], [0, 0]], [[3, 1], [0, 2]], [[3, 2], [0, 1]], [[2, 2], [1, 1]], [[3, 0], [0, 3]], [[1, 1], [2, 2]]]\n"
     ]
    },
    {
     "data": {
      "text/plain": [
       "[]"
      ]
     },
     "execution_count": 11,
     "metadata": {},
     "output_type": "execute_result"
    }
   ],
   "source": [
    "print(total)\n",
    "boat"
   ]
  },
  {
   "cell_type": "code",
   "execution_count": 16,
   "id": "dcf9e1c0",
   "metadata": {},
   "outputs": [],
   "source": [
    "def back():\n",
    "    if [[0,0],[3,3]] in boat:\n",
    "        print('Destination Reached')\n",
    "        return\n",
    "    if len(boat)>0:\n",
    "        x= boat.pop()\n",
    "    #     print(boat)\n",
    "        left = x[1]\n",
    "        right = x[0]\n",
    "        if left[0]>=2:\n",
    "            d=[[right[0]+2, right[1]],[left[0]-2, left[1]]]\n",
    "            print(d)\n",
    "            if (d[0][0]>=d[0][1] and d[1][0]>=d[1][1]) or (d[0][0]==0 or d[1][0]==0):\n",
    "                if d not in total:\n",
    "                    boat.append(d) \n",
    "                    total.append(d)                \n",
    "        if left[0]>=1:\n",
    "            d=[[right[0]+1, right[1]],[left[0]-1, left[1]]]\n",
    "            print(d)\n",
    "            if (d[0][0]>=d[0][1] and d[1][0]>=d[1][1]) or (d[0][0]==0 or d[1][0]==0):\n",
    "                if d not in total:\n",
    "                    boat.append(d)\n",
    "                    total.append(d)                \n",
    "        if left[1]>=2:\n",
    "            d=[[right[0], right[1]+2],[left[0], left[1]-2]]\n",
    "            print(d)            \n",
    "            if (d[0][0]>=d[0][1] and d[1][0]>=d[1][1]) or (d[0][0]==0 or d[1][0]==0):\n",
    "                if d not in total:\n",
    "                    boat.append(d)    \n",
    "                    total.append(d)                \n",
    "        if left[1]>=1:\n",
    "            d=[[right[0], right[1]+1],[left[0], left[1]-1]]\n",
    "            print(d)            \n",
    "            if (d[0][0]>=d[0][1] and d[1][0]>=d[1][1]) or (d[0][0]==0 or d[1][0]==0):\n",
    "                if d not in total:\n",
    "                    boat.append(d)\n",
    "                    total.append(d)                \n",
    "        if left[0]>=1 and left[1]>=1:\n",
    "            d=[[right[0]+1,right[1]+1],[left[0]-1, left[1]-1]]\n",
    "            print(d)            \n",
    "            if (d[0][0]>=d[0][1] and d[1][0]>=d[1][1]) or (d[0][0]==0 or d[1][0]==0):\n",
    "                if d not in total:\n",
    "                    boat.append(d)\n",
    "                    total.append(d)"
   ]
  },
  {
   "cell_type": "code",
   "execution_count": null,
   "id": "b76ff25b",
   "metadata": {},
   "outputs": [],
   "source": []
  }
 ],
 "metadata": {
  "kernelspec": {
   "display_name": "Python 3 (ipykernel)",
   "language": "python",
   "name": "python3"
  },
  "language_info": {
   "codemirror_mode": {
    "name": "ipython",
    "version": 3
   },
   "file_extension": ".py",
   "mimetype": "text/x-python",
   "name": "python",
   "nbconvert_exporter": "python",
   "pygments_lexer": "ipython3",
   "version": "3.9.7"
  }
 },
 "nbformat": 4,
 "nbformat_minor": 5
}
