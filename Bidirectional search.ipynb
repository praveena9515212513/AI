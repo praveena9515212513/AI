{
 "cells": [
  {
   "cell_type": "code",
   "execution_count": 71,
   "id": "69fb006a",
   "metadata": {},
   "outputs": [],
   "source": [
    "def bidirectional(s,t,i):\n",
    "    s_queue.append(s)\n",
    "#     print(s_queue)\n",
    "    t_queue.append(t)\n",
    "    s_parent[s]=-1\n",
    "    t_parent[t]=-1\n",
    "    s_visited[s]=True\n",
    "    t_visited[t]=True\n",
    "    while(len(s_queue) and len(t_queue)):\n",
    "        bfs('s')\n",
    "        bfs('t')\n",
    "        i=intersection(s_visited,t_visited)\n",
    "        if(i!=-1):\n",
    "            print(i,\" is the intersection point\")\n",
    "            return\n"
   ]
  },
  {
   "cell_type": "code",
   "execution_count": 61,
   "id": "eea4f599",
   "metadata": {},
   "outputs": [],
   "source": [
    "def intersection(a,b):\n",
    "    for i in range(V):\n",
    "        if(a[i] and b[i]):\n",
    "            return i\n",
    "    return -1"
   ]
  },
  {
   "cell_type": "code",
   "execution_count": 77,
   "id": "c20c0f24",
   "metadata": {},
   "outputs": [],
   "source": [
    "def bfs(p):\n",
    "    if p=='s':\n",
    "        current = s_queue.pop(0)\n",
    "        for i in adj[current]:\n",
    "            if(s_visited[i]==False):\n",
    "                s_queue.append(i)\n",
    "                s_visited[i]=True\n",
    "                s_parent[i]=current\n",
    "    elif p=='t':\n",
    "        current = t_queue.pop(0)\n",
    "        for i in adj[current]:\n",
    "            if(t_visited[i]==False):\n",
    "                t_queue.append(i)\n",
    "                t_visited[i]=True\n",
    "                t_parent[i]=current\n",
    "    "
   ]
  },
  {
   "cell_type": "code",
   "execution_count": 85,
   "id": "8df4f000",
   "metadata": {},
   "outputs": [
    {
     "name": "stdout",
     "output_type": "stream",
     "text": [
      "3  is the intersection point\n"
     ]
    }
   ],
   "source": [
    "src=0\n",
    "target=6\n",
    "i=-1\n",
    "adj\n",
    "V=7\n",
    "s_visited=[False]*V\n",
    "t_visited=[False]*V\n",
    "s_parent=[-1]*V\n",
    "t_parent=[-1]*V\n",
    "s_queue=[]\n",
    "t_queue=[]\n",
    "bidirectional(src,target,i)"
   ]
  },
  {
   "cell_type": "code",
   "execution_count": 63,
   "id": "da35915e",
   "metadata": {
    "collapsed": true
   },
   "outputs": [
    {
     "data": {
      "text/plain": [
       "defaultdict(list,\n",
       "            {0: [4],\n",
       "             4: [0, 1, 6],\n",
       "             1: [4],\n",
       "             2: [5],\n",
       "             5: [2, 3, 6],\n",
       "             3: [5],\n",
       "             6: [4, 5, 7],\n",
       "             7: [6, 8],\n",
       "             8: [7, 9, 10],\n",
       "             9: [8, 11, 12],\n",
       "             10: [8, 13, 14],\n",
       "             11: [9],\n",
       "             12: [9],\n",
       "             13: [10],\n",
       "             14: [10]})"
      ]
     },
     "execution_count": 63,
     "metadata": {},
     "output_type": "execute_result"
    }
   ],
   "source": [
    "adj"
   ]
  },
  {
   "cell_type": "code",
   "execution_count": 84,
   "id": "d96353da",
   "metadata": {
    "collapsed": true
   },
   "outputs": [
    {
     "data": {
      "text/plain": [
       "defaultdict(list,\n",
       "            {0: [1],\n",
       "             1: [0, 2, 3],\n",
       "             2: [1],\n",
       "             3: [1, 4],\n",
       "             4: [3, 5, 6],\n",
       "             5: [4],\n",
       "             6: [4]})"
      ]
     },
     "execution_count": 84,
     "metadata": {},
     "output_type": "execute_result"
    }
   ],
   "source": [
    "adj"
   ]
  },
  {
   "cell_type": "code",
   "execution_count": 83,
   "id": "804d2313",
   "metadata": {
    "collapsed": true
   },
   "outputs": [
    {
     "name": "stdout",
     "output_type": "stream",
     "text": [
      "0\n",
      "1\n",
      "1\n",
      "2\n",
      "1\n",
      "1\n",
      "1\n",
      "3\n",
      "1\n",
      "3\n",
      "4\n",
      "1\n",
      "4\n",
      "5\n",
      "1\n",
      "4\n",
      "6\n",
      "0\n"
     ]
    }
   ],
   "source": [
    "from collections import defaultdict\n",
    "adj=defaultdict(list)\n",
    "c=1\n",
    "while(c):\n",
    "    a=int(input())\n",
    "    b=int(input())\n",
    "    c=int(input())\n",
    "    adj[a].append(b)\n",
    "    adj[b].append(a)"
   ]
  },
  {
   "cell_type": "code",
   "execution_count": null,
   "id": "e8a22905",
   "metadata": {},
   "outputs": [],
   "source": []
  }
 ],
 "metadata": {
  "kernelspec": {
   "display_name": "Python 3 (ipykernel)",
   "language": "python",
   "name": "python3"
  },
  "language_info": {
   "codemirror_mode": {
    "name": "ipython",
    "version": 3
   },
   "file_extension": ".py",
   "mimetype": "text/x-python",
   "name": "python",
   "nbconvert_exporter": "python",
   "pygments_lexer": "ipython3",
   "version": "3.9.7"
  }
 },
 "nbformat": 4,
 "nbformat_minor": 5
}
