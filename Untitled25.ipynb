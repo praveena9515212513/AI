{
 "cells": [
  {
   "cell_type": "code",
   "execution_count": 74,
   "id": "0cb68cf6",
   "metadata": {},
   "outputs": [],
   "source": [
    "def AO_star(g,c):\n",
    "    k = list(c.keys())[::-1]\n",
    "    for x in k:\n",
    "        z=c[x]\n",
    "        p=list(c[x].keys())\n",
    "        l=[]\n",
    "        for y in p:\n",
    "            for i in range(len(z[y])):\n",
    "                z[y][i]=g[z[y][i]]+1\n",
    "            if y==\"OR\":\n",
    "                l.append(min(z[y]))\n",
    "            else:\n",
    "                l.append(sum(z[y]))\n",
    "                z[y]=[sum(z[y])]\n",
    "        g[x]=min(l)\n",
    "\n",
    "            \n",
    "g={'A':0,'B':0,'C':0,'D':0,'E':7,'F':9,'G':3,'H':0,'I':0,'J':0}\n",
    "c={'A':{\"OR\":['B'],\"AND\":['C','D']},\n",
    "  'B':{\"OR\":['E','F']},\n",
    "  'C':{\"OR\":['G'],\"AND\":['H','I']},\n",
    "  'D':{\"OR\":['J']}\n",
    "  }\n",
    "AO_star(g,c)"
   ]
  },
  {
   "cell_type": "code",
   "execution_count": 13,
   "id": "83efd84f",
   "metadata": {},
   "outputs": [
    {
     "name": "stdout",
     "output_type": "stream",
     "text": [
      "{'A': 4, 'B': 4, 'C': -3, 'D': 4, 'E': 6, 'F': -3, 'G': 7, 'H': -1, 'I': 4, 'J': 2, 'K': 6, 'L': -3, 'M': -5, 'N': 0, 'O': 7}\n"
     ]
    }
   ],
   "source": [
    "graph={'A':[['B','C'],1],'B':[['D','E'],0],'C':[['F','G'],0],'D':[['H','I'],1],'E':[['J','K'],1],'F':[['L','M'],1],\n",
    "       'G':[['N','O'],1],'H':[[-1],0],'I':[[4],0],'J':[[2],0],'K':[[6],0],'L':[[-3],0],'M':[[-5],0],'N':[[0],0],'O':[[7],0]}\n",
    "def minimax(g):\n",
    "    keys=list(g.keys())[::-1]\n",
    "    for i in keys:\n",
    "        key=g[i]\n",
    "        if type(key[0][0])==int:\n",
    "            if key[1]==0:\n",
    "                g[i]=min(key[0])\n",
    "            else:\n",
    "                g[i]=max(key[0])\n",
    "        else:\n",
    "            l=[]\n",
    "            for j in key[0]:\n",
    "                l.append(g[j])\n",
    "            if key[1]==0:\n",
    "                g[i]=min(l)\n",
    "            else:\n",
    "                g[i]=max(l)\n",
    "    return g\n",
    "print(minimax(graph))"
   ]
  },
  {
   "cell_type": "code",
   "execution_count": 22,
   "id": "35696041",
   "metadata": {},
   "outputs": [
    {
     "name": "stdout",
     "output_type": "stream",
     "text": [
      "goal reached\n",
      "visited nodes are\n",
      "[5, 3, 7]\n"
     ]
    },
    {
     "data": {
      "text/plain": [
       "[2, 4]"
      ]
     },
     "execution_count": 22,
     "metadata": {},
     "output_type": "execute_result"
    }
   ],
   "source": [
    "graph = {5:[3,7], 3:[2,4], 7:[8], 2:[], 4:[8], 8:[]}\n",
    "goal=8\n",
    "start=5\n",
    "queue=[start]\n",
    "visited=[]\n",
    "def bfs(graph,start,goal):\n",
    "    if start == goal:\n",
    "        print('goal reached')\n",
    "        return  \n",
    "    while(queue):\n",
    "        node = queue.pop(0)`\n",
    "        visited.append(node)\n",
    "        for i in graph[node]:\n",
    "            if(i==goal):\n",
    "                print('goal reached')\n",
    "                print('visited nodes are')\n",
    "                print(visited)\n",
    "                return \n",
    "            elif node not in visited or node not in queue:\n",
    "                queue.append(i)\n",
    "                \n",
    "bfs(graph,start,goal)\n",
    "queue"
   ]
  },
  {
   "cell_type": "code",
   "execution_count": 31,
   "id": "d30ef583",
   "metadata": {},
   "outputs": [
    {
     "name": "stdout",
     "output_type": "stream",
     "text": [
      "goal reached\n",
      "['sibiu', 'rv', 'fagaras', 'pitesti']\n"
     ]
    }
   ],
   "source": [
    "graph = {'sibiu':{'fagaras':99,'rv':80},\n",
    "        'rv':{'pitesti':97},\n",
    "        'pitesti':{'B':101},\n",
    "        'fagaras':{'B':211}}\n",
    "start = 'sibiu'\n",
    "goal = 'B'\n",
    "queue=[[0,start]]\n",
    "q=[start]\n",
    "visited=[]\n",
    "def uniform_cost():\n",
    "    while queue:\n",
    "        item = queue.pop(0)\n",
    "        q.pop(0)\n",
    "        city = item[1]\n",
    "        if city==goal:\n",
    "            print('goal reached')\n",
    "            print(visited)\n",
    "            return\n",
    "        visited.append(city)\n",
    "        for i in graph[city]:\n",
    "            if i not in visited or i not in q:  \n",
    "                queue.append([item[0]+graph[city][i],i])\n",
    "                q.append(i)\n",
    "            else:\n",
    "                index=q.index(graph[city])\n",
    "                if queue[index][0]>item[0]+graph[city][i]:\n",
    "                    queue[index][0]=item[0]+graph[city][i]\n",
    "        queue.sort()\n",
    "\n",
    "uniform_cost()  \n",
    "# visited"
   ]
  },
  {
   "cell_type": "code",
   "execution_count": 35,
   "id": "90b7034b",
   "metadata": {
    "collapsed": true
   },
   "outputs": [
    {
     "ename": "KeyboardInterrupt",
     "evalue": "Interrupted by user",
     "output_type": "error",
     "traceback": [
      "\u001b[1;31m---------------------------------------------------------------------------\u001b[0m",
      "\u001b[1;31mKeyboardInterrupt\u001b[0m                         Traceback (most recent call last)",
      "Cell \u001b[1;32mIn[35], line 4\u001b[0m\n\u001b[0;32m      2\u001b[0m graph \u001b[38;5;241m=\u001b[39m defaultdict(\u001b[38;5;28mlist\u001b[39m)\n\u001b[0;32m      3\u001b[0m \u001b[38;5;28;01mfor\u001b[39;00m i \u001b[38;5;129;01min\u001b[39;00m \u001b[38;5;28mrange\u001b[39m(\u001b[38;5;241m6\u001b[39m):\n\u001b[1;32m----> 4\u001b[0m     a,b\u001b[38;5;241m=\u001b[39m[\u001b[38;5;28mint\u001b[39m(x) \u001b[38;5;28;01mfor\u001b[39;00m x \u001b[38;5;129;01min\u001b[39;00m \u001b[38;5;28;43minput\u001b[39;49m\u001b[43m(\u001b[49m\u001b[43m)\u001b[49m\u001b[38;5;241m.\u001b[39msplit()]\n\u001b[0;32m      5\u001b[0m     graph[a]\u001b[38;5;241m.\u001b[39mappend(b)\n\u001b[0;32m      6\u001b[0m src\u001b[38;5;241m=\u001b[39m\u001b[38;5;241m0\u001b[39m\n",
      "File \u001b[1;32m~\\anaconda3\\lib\\site-packages\\ipykernel\\kernelbase.py:1175\u001b[0m, in \u001b[0;36mKernel.raw_input\u001b[1;34m(self, prompt)\u001b[0m\n\u001b[0;32m   1171\u001b[0m \u001b[38;5;28;01mif\u001b[39;00m \u001b[38;5;129;01mnot\u001b[39;00m \u001b[38;5;28mself\u001b[39m\u001b[38;5;241m.\u001b[39m_allow_stdin:\n\u001b[0;32m   1172\u001b[0m     \u001b[38;5;28;01mraise\u001b[39;00m StdinNotImplementedError(\n\u001b[0;32m   1173\u001b[0m         \u001b[38;5;124m\"\u001b[39m\u001b[38;5;124mraw_input was called, but this frontend does not support input requests.\u001b[39m\u001b[38;5;124m\"\u001b[39m\n\u001b[0;32m   1174\u001b[0m     )\n\u001b[1;32m-> 1175\u001b[0m \u001b[38;5;28;01mreturn\u001b[39;00m \u001b[38;5;28;43mself\u001b[39;49m\u001b[38;5;241;43m.\u001b[39;49m\u001b[43m_input_request\u001b[49m\u001b[43m(\u001b[49m\n\u001b[0;32m   1176\u001b[0m \u001b[43m    \u001b[49m\u001b[38;5;28;43mstr\u001b[39;49m\u001b[43m(\u001b[49m\u001b[43mprompt\u001b[49m\u001b[43m)\u001b[49m\u001b[43m,\u001b[49m\n\u001b[0;32m   1177\u001b[0m \u001b[43m    \u001b[49m\u001b[38;5;28;43mself\u001b[39;49m\u001b[38;5;241;43m.\u001b[39;49m\u001b[43m_parent_ident\u001b[49m\u001b[43m[\u001b[49m\u001b[38;5;124;43m\"\u001b[39;49m\u001b[38;5;124;43mshell\u001b[39;49m\u001b[38;5;124;43m\"\u001b[39;49m\u001b[43m]\u001b[49m\u001b[43m,\u001b[49m\n\u001b[0;32m   1178\u001b[0m \u001b[43m    \u001b[49m\u001b[38;5;28;43mself\u001b[39;49m\u001b[38;5;241;43m.\u001b[39;49m\u001b[43mget_parent\u001b[49m\u001b[43m(\u001b[49m\u001b[38;5;124;43m\"\u001b[39;49m\u001b[38;5;124;43mshell\u001b[39;49m\u001b[38;5;124;43m\"\u001b[39;49m\u001b[43m)\u001b[49m\u001b[43m,\u001b[49m\n\u001b[0;32m   1179\u001b[0m \u001b[43m    \u001b[49m\u001b[43mpassword\u001b[49m\u001b[38;5;241;43m=\u001b[39;49m\u001b[38;5;28;43;01mFalse\u001b[39;49;00m\u001b[43m,\u001b[49m\n\u001b[0;32m   1180\u001b[0m \u001b[43m\u001b[49m\u001b[43m)\u001b[49m\n",
      "File \u001b[1;32m~\\anaconda3\\lib\\site-packages\\ipykernel\\kernelbase.py:1217\u001b[0m, in \u001b[0;36mKernel._input_request\u001b[1;34m(self, prompt, ident, parent, password)\u001b[0m\n\u001b[0;32m   1214\u001b[0m             \u001b[38;5;28;01mbreak\u001b[39;00m\n\u001b[0;32m   1215\u001b[0m \u001b[38;5;28;01mexcept\u001b[39;00m \u001b[38;5;167;01mKeyboardInterrupt\u001b[39;00m:\n\u001b[0;32m   1216\u001b[0m     \u001b[38;5;66;03m# re-raise KeyboardInterrupt, to truncate traceback\u001b[39;00m\n\u001b[1;32m-> 1217\u001b[0m     \u001b[38;5;28;01mraise\u001b[39;00m \u001b[38;5;167;01mKeyboardInterrupt\u001b[39;00m(\u001b[38;5;124m\"\u001b[39m\u001b[38;5;124mInterrupted by user\u001b[39m\u001b[38;5;124m\"\u001b[39m) \u001b[38;5;28;01mfrom\u001b[39;00m \u001b[38;5;28mNone\u001b[39m\n\u001b[0;32m   1218\u001b[0m \u001b[38;5;28;01mexcept\u001b[39;00m \u001b[38;5;167;01mException\u001b[39;00m:\n\u001b[0;32m   1219\u001b[0m     \u001b[38;5;28mself\u001b[39m\u001b[38;5;241m.\u001b[39mlog\u001b[38;5;241m.\u001b[39mwarning(\u001b[38;5;124m\"\u001b[39m\u001b[38;5;124mInvalid Message:\u001b[39m\u001b[38;5;124m\"\u001b[39m, exc_info\u001b[38;5;241m=\u001b[39m\u001b[38;5;28;01mTrue\u001b[39;00m)\n",
      "\u001b[1;31mKeyboardInterrupt\u001b[0m: Interrupted by user"
     ]
    }
   ],
   "source": [
    "from collections import defaultdict\n",
    "graph = defaultdict(list)\n",
    "for i in range(6):\n",
    "    a,b=[int(x) for x in input().split()]\n",
    "    graph[a].append(b)\n",
    "src=0\n",
    "max_depth=3\n",
    "target=7\n",
    "def dfs(src, target, i):\n",
    "    if src==target:\n",
    "        return True\n",
    "    if i<=0:\n",
    "        return False\n",
    "    for j in graph[src]:\n",
    "        if(dfs(j,target,i-1)):\n",
    "            return True\n",
    "    return False\n",
    "def iter_deep():\n",
    "    for i in range(max_depth):\n",
    "        if(dfs(src,target,i)):\n",
    "            return True\n",
    "        else:\n",
    "            return False\n",
    "if(iter_deep()):\n",
    "    print('target is found within the limit')\n",
    "else:\n",
    "    print('target is not found within the limit')\n"
   ]
  },
  {
   "cell_type": "code",
   "execution_count": 37,
   "id": "f58ebfca",
   "metadata": {
    "collapsed": true
   },
   "outputs": [
    {
     "name": "stdout",
     "output_type": "stream",
     "text": [
      "0\n",
      "1\n",
      "1\n",
      "2\n",
      "1\n",
      "1\n",
      "1\n",
      "3\n",
      "1\n",
      "3\n",
      "4\n",
      "1\n",
      "4\n",
      "5\n",
      "1\n",
      "4\n",
      "6\n",
      "0\n"
     ]
    }
   ],
   "source": [
    "from collections import defaultdict\n",
    "adj = defaultdict(list)\n",
    "while(c):\n",
    "    a=int(input())\n",
    "    b=int(input())\n",
    "    c=int(input())\n",
    "    adj[a].append(b)\n",
    "    adj[b].append(a)\n"
   ]
  },
  {
   "cell_type": "code",
   "execution_count": 38,
   "id": "7300d8d6",
   "metadata": {},
   "outputs": [
    {
     "data": {
      "text/plain": [
       "defaultdict(list,\n",
       "            {0: [1],\n",
       "             1: [0, 2, 3],\n",
       "             2: [1],\n",
       "             3: [1, 4],\n",
       "             4: [3, 5, 6],\n",
       "             5: [4],\n",
       "             6: [4]})"
      ]
     },
     "execution_count": 38,
     "metadata": {},
     "output_type": "execute_result"
    }
   ],
   "source": [
    "adj"
   ]
  },
  {
   "cell_type": "code",
   "execution_count": 41,
   "id": "88af239d",
   "metadata": {},
   "outputs": [],
   "source": [
    "src=0\n",
    "target=6\n",
    "v=7\n",
    "s_visited=[False]*v\n",
    "t_visited=[False]*v\n",
    "s_parent = [-1]*v\n",
    "t_parent = [-1]*v\n",
    "s_queue = []\n",
    "t_queue = []"
   ]
  },
  {
   "cell_type": "code",
   "execution_count": 43,
   "id": "9c9789ca",
   "metadata": {},
   "outputs": [
    {
     "name": "stdout",
     "output_type": "stream",
     "text": [
      "3  is the intersection point\n"
     ]
    }
   ],
   "source": [
    "def bfs(p):\n",
    "    if p=='s':\n",
    "        current = s_queue.pop(0)\n",
    "        for i in adj[current]:\n",
    "            if s_visited[i]==False:\n",
    "                s_visited[i]=True\n",
    "                s_parent=current\n",
    "                s_queue.append(i)\n",
    "    elif p=='t':\n",
    "        current = t_queue.pop(0)\n",
    "        for i in adj[current]:\n",
    "            if t_visited[i]==False:\n",
    "                t_visited[i]=True\n",
    "                t_parent=current\n",
    "                t_queue.append(i)\n",
    "def intersection(a,b):\n",
    "    for i in range(len(a)):\n",
    "        if a[i] and b[i]:\n",
    "            return i\n",
    "    return -1\n",
    "def bidirectional(src, target):\n",
    "    i=-1\n",
    "    s_queue.append(src)\n",
    "    t_queue.append(target)\n",
    "    s_visited[src]=True\n",
    "    t_visited[target]=True\n",
    "    while s_queue and t_queue:\n",
    "        bfs('s')\n",
    "        bfs('t')\n",
    "        i=intersection(s_visited,t_visited)\n",
    "        if(i!=-1):\n",
    "            print(i,' is the intersection point')\n",
    "            return\n",
    "bidirectional(src,target)\n"
   ]
  },
  {
   "cell_type": "code",
   "execution_count": 66,
   "id": "d085ad0e",
   "metadata": {},
   "outputs": [
    {
     "name": "stdout",
     "output_type": "stream",
     "text": [
      "[0, 0]\n",
      "[5, 0]\n",
      "[0, 3]\n",
      "[2, 3]\n",
      "[5, 3]\n",
      "[3, 0]\n",
      "[2, 0]\n",
      "[3, 3]\n",
      "[0, 2]\n",
      "[5, 1]\n",
      "[5, 2]\n",
      "[0, 1]\n",
      "[4, 3]\n",
      "goal reached\n"
     ]
    }
   ],
   "source": [
    "j1=5\n",
    "j2=3\n",
    "visited=[[0,0]]\n",
    "queue=[[0,0]]\n",
    "def bfs():\n",
    "    x=queue.pop(0)\n",
    "    print(x)\n",
    "    if 4 in x:\n",
    "#         print(visited)\n",
    "        print('goal reached')\n",
    "        return\n",
    "    p=x[0]\n",
    "    q=x[1]\n",
    "    if p+q>=j2 and p>0:\n",
    "        state=[p-(j2-q),j2]\n",
    "        if state not in visited:\n",
    "            queue.append(state)\n",
    "            visited.append(state)\n",
    "    if p+q>=j1 and q>0:\n",
    "        state=[j1,q-(j1-p)]\n",
    "        if state not in visited:\n",
    "            queue.append(state)\n",
    "            visited.append(state)\n",
    "\n",
    "    if p+q<=j2 and p>0:\n",
    "        state=[0,p+q]\n",
    "        if state not in visited:\n",
    "            queue.append(state)\n",
    "            visited.append(state)\n",
    "    if p+q<=j1 and q>0:\n",
    "        state=[p+q,0]\n",
    "        if state not in visited:\n",
    "            queue.append(state)\n",
    "            visited.append(state)\n",
    "\n",
    "    if p>0:\n",
    "        state=[0,q]\n",
    "        if state not in visited:\n",
    "            queue.append(state)\n",
    "            visited.append(state)\n",
    "    if q>0:\n",
    "        state=[p,0]\n",
    "        if state not in visited:\n",
    "            queue.append(state)\n",
    "            visited.append(state)\n",
    "    if p<=j1:\n",
    "        state=[j1,q]\n",
    "        if state not in visited:\n",
    "            queue.append(state)\n",
    "            visited.append(state)\n",
    "    if q<=j2:\n",
    "        state=[p,j2]\n",
    "        if state not in visited:\n",
    "            queue.append(state)\n",
    "            visited.append(state)\n",
    "    bfs()\n",
    "bfs()\n"
   ]
  },
  {
   "cell_type": "code",
   "execution_count": 71,
   "id": "83b9729d",
   "metadata": {
    "collapsed": true
   },
   "outputs": [
    {
     "name": "stdout",
     "output_type": "stream",
     "text": [
      "0 1 4\n",
      "0 2 4\n",
      "0 3 4\n",
      "1 4 3\n",
      "2 3 2\n",
      "2 4 6\n",
      "2 6 3\n",
      "3 8 5\n",
      "4 5 2\n",
      "4 6 5\n",
      "5 7 5\n",
      "6 7 5\n",
      "7 9 6\n",
      "8 6 5\n",
      "8 9 1\n",
      "6 9 4\n"
     ]
    }
   ],
   "source": [
    "from collections import defaultdict\n",
    "graph = defaultdict(list)\n",
    "E=16\n",
    "cost=[]\n",
    "for i in range(10):\n",
    "    t=[]\n",
    "    for j in range(10):\n",
    "        t.append(0)\n",
    "    cost.append(t)\n",
    "for i in range(E):\n",
    "    a,b,c=[int(x) for x in input().split()]\n",
    "    graph[a].append(b)\n",
    "    cost[a][b]=c"
   ]
  },
  {
   "cell_type": "code",
   "execution_count": 68,
   "id": "d616aa19",
   "metadata": {
    "collapsed": true
   },
   "outputs": [
    {
     "name": "stdout",
     "output_type": "stream",
     "text": [
      "10\n",
      "11\n",
      "6\n",
      "8\n",
      "9\n",
      "9\n",
      "4\n",
      "6\n",
      "3\n",
      "0\n"
     ]
    }
   ],
   "source": [
    "h=[]\n",
    "N=10\n",
    "for i in range(N):\n",
    "    h.append(int(input()))"
   ]
  },
  {
   "cell_type": "code",
   "execution_count": 72,
   "id": "8893a750",
   "metadata": {},
   "outputs": [
    {
     "name": "stdout",
     "output_type": "stream",
     "text": [
      "Total cost is\n",
      "10\n"
     ]
    }
   ],
   "source": [
    "def greedy(graph,s,t,h):\n",
    "    queue=[s]\n",
    "    visited=[s]\n",
    "    while(queue):\n",
    "        min=10000\n",
    "        s= queue.pop()\n",
    "        for i in graph[s]:\n",
    "            if min>h[i]:\n",
    "                min=h[i]\n",
    "                index=i\n",
    "        queue.append(i)\n",
    "        visited.append(i)\n",
    "        if t in visited:\n",
    "            print(\"Total cost is\")\n",
    "            c=0\n",
    "            for i in range(len(visited)-1):\n",
    "                c=c+cost[visited[i]][visited[i+1]]\n",
    "            print(c)\n",
    "            return\n",
    "s=0\n",
    "t=9\n",
    "greedy(graph,s,t,h)"
   ]
  },
  {
   "cell_type": "code",
   "execution_count": null,
   "id": "eedf1554",
   "metadata": {},
   "outputs": [],
   "source": []
  },
  {
   "cell_type": "code",
   "execution_count": 48,
   "id": "58e45bfc",
   "metadata": {},
   "outputs": [
    {
     "name": "stdout",
     "output_type": "stream",
     "text": [
      "six seven seven\n",
      "twenty\n"
     ]
    }
   ],
   "source": [
    "def number(i,d):\n",
    "    t=0\n",
    "    for j in i:\n",
    "        t = d[j]+(t*10)\n",
    "    return t\n",
    "def test(d,l,s):\n",
    "    sum1=0\n",
    "    for i in l:\n",
    "        sum1+=number(i,d)\n",
    "    if sum1 == number(s,d):\n",
    "        return 1\n",
    "    return 0\n",
    "\n",
    "import itertools\n",
    "l=input().split()\n",
    "s=input()\n",
    "p=list(set(''.join(l)+s))\n",
    "q=len(p)\n",
    "\n",
    "k=list(itertools.permutations(range(0,10),q))\n",
    "f=0\n",
    "d={}\n",
    "for i in k:\n",
    "    for j in range(len(p)):\n",
    "        d[p[j]]=i[j]\n",
    "    if test(d,l,s):\n",
    "        f=1\n",
    "        print('solution found')\n",
    "        break\n",
    "if f==0:\n",
    "    print('solution not found')"
   ]
  },
  {
   "cell_type": "code",
   "execution_count": 65,
   "id": "deadad07",
   "metadata": {},
   "outputs": [
    {
     "data": {
      "text/plain": [
       "5"
      ]
     },
     "execution_count": 65,
     "metadata": {},
     "output_type": "execute_result"
    }
   ],
   "source": [
    "values = [3,5,6,9,1,2,0,-1]\n",
    "MAX,MIN=1000,-1000\n",
    "depth=0\n",
    "def alphabeta(depth,index,values,alpha,beta,maximizingPlayer):\n",
    "    if depth==3:\n",
    "#         print()\n",
    "        return values[index]\n",
    "    if maximizingPlayer:\n",
    "        best=MIN\n",
    "        for i in range(0,2):\n",
    "            val=alphabeta(depth+1,index*2+i,values,alpha,beta,False)\n",
    "            best=max(best,val)\n",
    "            alpha = max(best,alpha)\n",
    "            if alpha>=beta:\n",
    "                break\n",
    "        return best\n",
    "    else:\n",
    "        best = MAX\n",
    "        for i in range(0,2):\n",
    "            val=alphabeta(depth+1,index*2+i,values,alpha,beta,True)\n",
    "            best = min(best,val)\n",
    "            beta = min(best,beta)\n",
    "            if alpha>=beta:\n",
    "                break\n",
    "        return best\n",
    "alphabeta(0,0,values,MIN,MAX,True)"
   ]
  }
 ],
 "metadata": {
  "kernelspec": {
   "display_name": "Python 3 (ipykernel)",
   "language": "python",
   "name": "python3"
  },
  "language_info": {
   "codemirror_mode": {
    "name": "ipython",
    "version": 3
   },
   "file_extension": ".py",
   "mimetype": "text/x-python",
   "name": "python",
   "nbconvert_exporter": "python",
   "pygments_lexer": "ipython3",
   "version": "3.10.9"
  }
 },
 "nbformat": 4,
 "nbformat_minor": 5
}
