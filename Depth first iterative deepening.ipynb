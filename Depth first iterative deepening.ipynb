{
 "cells": [
  {
   "cell_type": "code",
   "execution_count": 12,
   "id": "7c7af3d5",
   "metadata": {},
   "outputs": [
    {
     "name": "stdout",
     "output_type": "stream",
     "text": [
      "Enter edge\n",
      "0 1\n",
      "Enter c\n",
      "1\n",
      "Enter edge\n",
      "0 2\n",
      "Enter c\n",
      "1\n",
      "Enter edge\n",
      "1 3\n",
      "Enter c\n",
      "1\n",
      "Enter edge\n",
      "1 4\n",
      "Enter c\n",
      "1 \n",
      "Enter edge\n",
      "2 5\n",
      "Enter c\n",
      "1\n",
      "Enter edge\n",
      "2 6\n",
      "Enter c\n",
      "0\n"
     ]
    }
   ],
   "source": [
    "# graph={0:[1,2],1:[3,4],2:[5,6]}\n",
    "from collections import defaultdict\n",
    "graph = defaultdict(list)\n",
    "c=1\n",
    "while(c):\n",
    "    print('Enter edge')\n",
    "    i,j=[int(x) for x in input().split()]\n",
    "    graph[i].append(j)\n",
    "    print('Enter c')\n",
    "    c=int(input())"
   ]
  },
  {
   "cell_type": "code",
   "execution_count": 14,
   "id": "cd96ce3a",
   "metadata": {},
   "outputs": [
    {
     "name": "stdout",
     "output_type": "stream",
     "text": [
      "Enter max depth\n",
      "3\n",
      "Enter target\n",
      "7\n",
      "Target is not found within the limit\n"
     ]
    }
   ],
   "source": [
    "src = 0\n",
    "print('Enter max depth')\n",
    "m = int(input())\n",
    "print('Enter target')\n",
    "target = int(input())\n",
    "if(iter_deep()):\n",
    "    print('Target found within the limit')\n",
    "else:\n",
    "    print('Target is not found within the limit')"
   ]
  },
  {
   "cell_type": "code",
   "execution_count": 1,
   "id": "1709e478",
   "metadata": {},
   "outputs": [],
   "source": [
    "def iter_deep():\n",
    "    for i in range(m):\n",
    "        if(dfs(src, target, i)):\n",
    "            return True\n",
    "    return False"
   ]
  },
  {
   "cell_type": "code",
   "execution_count": 2,
   "id": "96108bd3",
   "metadata": {},
   "outputs": [],
   "source": [
    "def dfs(src, target, i):\n",
    "    if src == target:\n",
    "        return True\n",
    "    if i<=0:\n",
    "        return False\n",
    "    for j in graph[src]:\n",
    "        if dfs(j, target, i-1):\n",
    "            return True\n",
    "    return False        "
   ]
  }
 ],
 "metadata": {
  "kernelspec": {
   "display_name": "Python 3 (ipykernel)",
   "language": "python",
   "name": "python3"
  },
  "language_info": {
   "codemirror_mode": {
    "name": "ipython",
    "version": 3
   },
   "file_extension": ".py",
   "mimetype": "text/x-python",
   "name": "python",
   "nbconvert_exporter": "python",
   "pygments_lexer": "ipython3",
   "version": "3.9.7"
  }
 },
 "nbformat": 4,
 "nbformat_minor": 5
}
