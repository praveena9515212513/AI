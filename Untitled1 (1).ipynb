{
 "cells": [
  {
   "cell_type": "code",
   "execution_count": 3,
   "id": "3a6c430b",
   "metadata": {},
   "outputs": [
    {
     "name": "stdout",
     "output_type": "stream",
     "text": [
      "[[0,1,75],[0,3,118],[0,4,140],[1,2,71],[2,4,151],[4,8,80],[3 ,5 ,111],[4,9,99],[5,6,70],[6,7,75],[7,10,120],[8,10,146],[8,11,97],[9,12,211],[10,11,138],[11,12,101]]\n"
     ]
    }
   ],
   "source": [
    "import numpy as np\n",
    "from collections import defaultdict\n",
    "graph=defaultdict(list)\n",
    "edges=eval(input())\n",
    "cost=np.zeros((13,13))\n",
    "for edge in edges:\n",
    "    graph[edge[0]].append(edge[1])\n",
    "#     graph[edge[1]].append(edge[0])\n",
    "    cost[edge[0]][edge[1]]=edge[2]\n",
    "    cost[edge[1]][edge[0]]=edge[2]"
   ]
  },
  {
   "cell_type": "code",
   "execution_count": 4,
   "id": "a4be3ae6",
   "metadata": {},
   "outputs": [
    {
     "data": {
      "text/plain": [
       "defaultdict(list,\n",
       "            {0: [1, 3, 4],\n",
       "             1: [2],\n",
       "             2: [4],\n",
       "             4: [8, 9],\n",
       "             3: [5],\n",
       "             5: [6],\n",
       "             6: [7],\n",
       "             7: [10],\n",
       "             8: [10, 11],\n",
       "             9: [12],\n",
       "             10: [11],\n",
       "             11: [12]})"
      ]
     },
     "execution_count": 4,
     "metadata": {},
     "output_type": "execute_result"
    }
   ],
   "source": [
    "graph"
   ]
  },
  {
   "cell_type": "code",
   "execution_count": 8,
   "id": "f17d7c9c",
   "metadata": {},
   "outputs": [
    {
     "name": "stdout",
     "output_type": "stream",
     "text": [
      "[366 ,374 ,380 ,329 ,253 ,244 ,241 ,242 ,193 ,176 ,160 ,100 ,0]\n"
     ]
    }
   ],
   "source": [
    "hue=eval(input())\n",
    "h=[]\n",
    "for i in hue:\n",
    "    h.append(i)"
   ]
  },
  {
   "cell_type": "code",
   "execution_count": 25,
   "id": "f715693b",
   "metadata": {},
   "outputs": [
    {
     "name": "stdout",
     "output_type": "stream",
     "text": [
      "[(0, 0, 0)]\n",
      "[(393.0, 140.0, 4), (447.0, 118.0, 3), (449.0, 75.0, 1)]\n",
      "[(413.0, 220.0, 8), (415.0, 239.0, 9), (447.0, 118.0, 3), (449.0, 75.0, 1)]\n",
      "[(415.0, 239.0, 9), (417.0, 317.0, 11), (447.0, 118.0, 3), (449.0, 75.0, 1), (526.0, 366.0, 10)]\n",
      "[(417.0, 317.0, 11), (447.0, 118.0, 3), (449.0, 75.0, 1), (450.0, 450.0, 12), (526.0, 366.0, 10)]\n",
      "[(418.0, 418.0, 12), (447.0, 118.0, 3), (449.0, 75.0, 1), (450.0, 450.0, 12), (526.0, 366.0, 10)]\n",
      "Destination reached\n"
     ]
    }
   ],
   "source": [
    "s=0\n",
    "t=12\n",
    "parent[s]=-1\n",
    "queue=[(0,0,0)]\n",
    "visited=[]\n",
    "parent=[-1]*13\n",
    "astar(graph,h,s,t)"
   ]
  },
  {
   "cell_type": "code",
   "execution_count": 26,
   "id": "0294fe43",
   "metadata": {},
   "outputs": [
    {
     "data": {
      "text/plain": [
       "[-1, 0, -1, 0, 0, -1, -1, -1, 4, 4, 8, 8, 11]"
      ]
     },
     "execution_count": 26,
     "metadata": {},
     "output_type": "execute_result"
    }
   ],
   "source": [
    "# parent=[-1]*12\n",
    "parent"
   ]
  },
  {
   "cell_type": "code",
   "execution_count": 23,
   "id": "70f6041b",
   "metadata": {},
   "outputs": [],
   "source": [
    "def astar(graph,h,s,t):\n",
    "    while len(queue)>0:\n",
    "        print(queue)   \n",
    "        t=queue.pop(0)\n",
    "        visited.append(t)\n",
    "        if 12 in t:\n",
    "            print(\"Destination reached\")\n",
    "            return \n",
    "        \n",
    "        x=t[2]\n",
    "        for i in graph[x]:\n",
    "#             print(abs(t[0]-h[t[1]]))\n",
    "            queue.append((t[1]+cost[t[2]][i]+h[i],cost[t[2]][i]+t[1],i))\n",
    "            parent[i]=x\n",
    "        queue.sort()    \n"
   ]
  },
  {
   "cell_type": "code",
   "execution_count": null,
   "id": "d9a45afb",
   "metadata": {},
   "outputs": [],
   "source": []
  }
 ],
 "metadata": {
  "kernelspec": {
   "display_name": "Python 3 (ipykernel)",
   "language": "python",
   "name": "python3"
  },
  "language_info": {
   "codemirror_mode": {
    "name": "ipython",
    "version": 3
   },
   "file_extension": ".py",
   "mimetype": "text/x-python",
   "name": "python",
   "nbconvert_exporter": "python",
   "pygments_lexer": "ipython3",
   "version": "3.10.9"
  }
 },
 "nbformat": 4,
 "nbformat_minor": 5
}
