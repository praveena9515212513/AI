{
 "cells": [
  {
   "cell_type": "code",
   "execution_count": 2,
   "id": "91a96729",
   "metadata": {},
   "outputs": [
    {
     "name": "stdout",
     "output_type": "stream",
     "text": [
      "Capacity of jug1: 5\n",
      "Capacity of jug2: 3\n",
      "Amount of water to be measured: 4\n"
     ]
    }
   ],
   "source": [
    "j1 = int(input(\"Capacity of jug1: \"))\n",
    "j2 = int(input(\"Capacity of jug2: \"))\n",
    "g = int(input(\"Amount of water to be measured: \"))"
   ]
  },
  {
   "cell_type": "code",
   "execution_count": 2,
   "id": "19b9b146",
   "metadata": {},
   "outputs": [],
   "source": [
    "def display():\n",
    "    print('\\nEnter the rule to be applied')\n",
    "    print('Rule1: fill jug1')\n",
    "    print('Rule2: fill jug2')\n",
    "    print('Rule3: empty jug1')\n",
    "    print('rule4: empty jug2')\n",
    "    print('rule5: transfer all water from jug2 to jug1')\n",
    "    print('rule6: transfer all water from jug1 to jug2')\n",
    "    print('rule7: transfer some water from jug2 to jug1 untill jug1 is full')\n",
    "    print('rule8: transfer some water from jug1 to jug2 untill jug2 is full')"
   ]
  },
  {
   "cell_type": "code",
   "execution_count": null,
   "id": "70a36934",
   "metadata": {},
   "outputs": [],
   "source": []
  },
  {
   "cell_type": "code",
   "execution_count": 5,
   "id": "264956fb",
   "metadata": {},
   "outputs": [],
   "source": [
    "def apply_rule(ch,x,y):\n",
    "        if ch== 1:\n",
    "            if(x<j1):\n",
    "                return j1,y\n",
    "            else:\n",
    "                print('rule cannot be applied')\n",
    "                return x,y\n",
    "        elif ch==  2:\n",
    "            if y<j2:\n",
    "                return x,j2\n",
    "            else:\n",
    "                print('rule cannot be applied')\n",
    "                return x,y\n",
    "        elif ch==  3:\n",
    "            if x>0:\n",
    "                return 0,y\n",
    "            else:\n",
    "                print('rule cannot be applied')\n",
    "                return x,y\n",
    "        elif ch==  4:\n",
    "            if y>0:\n",
    "                return x,0\n",
    "            else:\n",
    "                print('rule cannot be applied')\n",
    "                return x,y\n",
    "        elif ch==  5:\n",
    "            if x+y <=j1 and y>0:\n",
    "                return x+y,0\n",
    "            else:\n",
    "                print('rule cannot be applied')\n",
    "                return x,y\n",
    "        elif ch==  6:\n",
    "            if x+y <=j2 and x>0:\n",
    "                return 0,x+y\n",
    "            else:\n",
    "                print('rule cannot be applied')\n",
    "                return x,y\n",
    "        elif ch==  7:\n",
    "            if x+y>=j1 and y>0:\n",
    "                return j1,y-(j1-x)\n",
    "            else:\n",
    "                print('rule cannot be applied')\n",
    "                return x,y\n",
    "        elif ch==  8:\n",
    "            if x+y>=j2 and x>0:\n",
    "                return x-(j2-y),j2\n",
    "            else:\n",
    "                print('rule cannot be applied')\n",
    "                return x,y\n",
    "        else:\n",
    "            print('invalid choice')\n",
    "            \n",
    "            "
   ]
  },
  {
   "cell_type": "code",
   "execution_count": 6,
   "id": "e038eab4",
   "metadata": {
    "collapsed": true
   },
   "outputs": [
    {
     "name": "stdout",
     "output_type": "stream",
     "text": [
      "\n",
      "Enter the rule to be applied\n",
      "Rule1: fill jug1\n",
      "Rule2: fill jug2\n",
      "Rule3: empty jug1\n",
      "rule4: empty jug2\n",
      "rule5: transfer all water from jug2 to jug1\n",
      "rule6: transfer all water from jug1 to jug2\n",
      "rule7: transfer some water from jug2 to jug1 untill jug1 is full\n",
      "rule8: transfer some water from jug1 to jug2 untill jug2 is full\n",
      "Enter the rule to apply:1\n",
      "5 0\n",
      "\n",
      "Enter the rule to be applied\n",
      "Rule1: fill jug1\n",
      "Rule2: fill jug2\n",
      "Rule3: empty jug1\n",
      "rule4: empty jug2\n",
      "rule5: transfer all water from jug2 to jug1\n",
      "rule6: transfer all water from jug1 to jug2\n",
      "rule7: transfer some water from jug2 to jug1 untill jug1 is full\n",
      "rule8: transfer some water from jug1 to jug2 untill jug2 is full\n",
      "Enter the rule to apply:6\n",
      "rule cannot be applied\n",
      "5 0\n",
      "\n",
      "Enter the rule to be applied\n",
      "Rule1: fill jug1\n",
      "Rule2: fill jug2\n",
      "Rule3: empty jug1\n",
      "rule4: empty jug2\n",
      "rule5: transfer all water from jug2 to jug1\n",
      "rule6: transfer all water from jug1 to jug2\n",
      "rule7: transfer some water from jug2 to jug1 untill jug1 is full\n",
      "rule8: transfer some water from jug1 to jug2 untill jug2 is full\n",
      "Enter the rule to apply:8\n",
      "2 3\n",
      "\n",
      "Enter the rule to be applied\n",
      "Rule1: fill jug1\n",
      "Rule2: fill jug2\n",
      "Rule3: empty jug1\n",
      "rule4: empty jug2\n",
      "rule5: transfer all water from jug2 to jug1\n",
      "rule6: transfer all water from jug1 to jug2\n",
      "rule7: transfer some water from jug2 to jug1 untill jug1 is full\n",
      "rule8: transfer some water from jug1 to jug2 untill jug2 is full\n",
      "Enter the rule to apply:4\n",
      "2 0\n",
      "\n",
      "Enter the rule to be applied\n",
      "Rule1: fill jug1\n",
      "Rule2: fill jug2\n",
      "Rule3: empty jug1\n",
      "rule4: empty jug2\n",
      "rule5: transfer all water from jug2 to jug1\n",
      "rule6: transfer all water from jug1 to jug2\n",
      "rule7: transfer some water from jug2 to jug1 untill jug1 is full\n",
      "rule8: transfer some water from jug1 to jug2 untill jug2 is full\n",
      "Enter the rule to apply:6\n",
      "0 2\n",
      "\n",
      "Enter the rule to be applied\n",
      "Rule1: fill jug1\n",
      "Rule2: fill jug2\n",
      "Rule3: empty jug1\n",
      "rule4: empty jug2\n",
      "rule5: transfer all water from jug2 to jug1\n",
      "rule6: transfer all water from jug1 to jug2\n",
      "rule7: transfer some water from jug2 to jug1 untill jug1 is full\n",
      "rule8: transfer some water from jug1 to jug2 untill jug2 is full\n",
      "Enter the rule to apply:1\n",
      "5 2\n",
      "\n",
      "Enter the rule to be applied\n",
      "Rule1: fill jug1\n",
      "Rule2: fill jug2\n",
      "Rule3: empty jug1\n",
      "rule4: empty jug2\n",
      "rule5: transfer all water from jug2 to jug1\n",
      "rule6: transfer all water from jug1 to jug2\n",
      "rule7: transfer some water from jug2 to jug1 untill jug1 is full\n",
      "rule8: transfer some water from jug1 to jug2 untill jug2 is full\n",
      "Enter the rule to apply:8\n",
      "4 3\n",
      "goal achived\n"
     ]
    }
   ],
   "source": [
    "x=y=0\n",
    "while(True):\n",
    "    if(x==g) or (y==g):\n",
    "        print('goal achieved')\n",
    "        break\n",
    "    else:\n",
    "        display()\n",
    "        ch=int(input('Enter the rule to apply:'))\n",
    "        x,y=apply_rule(ch,x,y)\n",
    "        print(x,y)"
   ]
  },
  {
   "cell_type": "code",
   "execution_count": 58,
   "id": "8ee49975",
   "metadata": {},
   "outputs": [],
   "source": [
    "def dfs():\n",
    "    x=states.pop()\n",
    "    print(x)\n",
    "    if 4 in x:\n",
    "        print('Goal reached')\n",
    "        return\n",
    "    if x[0]+x[1]>=j2 and x[0]>0:\n",
    "        if [x[0]-(j2-x[1]),j2] not in copy1:\n",
    "            states.append([x[0]-(j2-x[1]),j2])\n",
    "            copy1.append([x[0]-(j2-x[1]),j2])\n",
    "    if x[0]+x[1]>=j1 and x[1]>0:\n",
    "        if [j1,x[1]-(j1-x[0])] not in copy1:\n",
    "            states.append([j1,x[1]-(j1-x[0])])\n",
    "            copy1.append([j1,x[1]-(j1-x[0])])\n",
    "    if x[0]+x[1] <=j1 and x[1]>0:\n",
    "        if [x[1]+x[0],0] not in copy1:\n",
    "            states.append([x[1]+x[0],0])\n",
    "            copy1.append([x[1]+x[0],0])\n",
    "    if x[0]+x[1] <=j2 and x[0]>0:\n",
    "        if [0,x[0]+x[1]] not in copy1:\n",
    "            states.append([0,x[0]+x[1]])\n",
    "            copy1.append([0,x[0]+x[1]])\n",
    "    if x[0]>0:\n",
    "        if [0,x[1]] not in copy1:\n",
    "            states.append([0,x[1]])\n",
    "            copy1.append([0,x[1]])\n",
    "    if x[1]>0:\n",
    "        if [x[0],0] not in copy1:\n",
    "            states.append([x[0],0])\n",
    "            copy1.append([x[0],0])\n",
    "    if x[0]<=j1 :\n",
    "        if [j1,x[1]] not in copy1:\n",
    "            states.append([j1,x[1]])\n",
    "            copy1.append([j1,x[1]])\n",
    "    if x[1]<=j2:\n",
    "        if [x[0],j2] not in copy1:\n",
    "            states.append([x[0],j2])\n",
    "            copy1.append([x[0],j2])\n",
    "    dfs()\n",
    "        "
   ]
  },
  {
   "cell_type": "code",
   "execution_count": 61,
   "id": "5316f07e",
   "metadata": {},
   "outputs": [
    {
     "name": "stdout",
     "output_type": "stream",
     "text": [
      "[0, 0]\n",
      "[0, 3]\n",
      "[5, 3]\n",
      "[3, 0]\n",
      "[3, 3]\n",
      "[5, 1]\n",
      "[0, 1]\n",
      "[1, 0]\n",
      "[1, 3]\n",
      "[4, 0]\n",
      "Goal reached\n"
     ]
    }
   ],
   "source": [
    "states=[[0,0]]\n",
    "copy1=states.copy()\n",
    "j1=5\n",
    "j2=3\n",
    "dfs()"
   ]
  },
  {
   "cell_type": "code",
   "execution_count": 60,
   "id": "61379e66",
   "metadata": {},
   "outputs": [
    {
     "data": {
      "text/plain": [
       "[[0, 0],\n",
       " [5, 0],\n",
       " [0, 3],\n",
       " [3, 0],\n",
       " [5, 3],\n",
       " [3, 3],\n",
       " [5, 1],\n",
       " [0, 1],\n",
       " [1, 0],\n",
       " [1, 3],\n",
       " [4, 0]]"
      ]
     },
     "execution_count": 60,
     "metadata": {},
     "output_type": "execute_result"
    }
   ],
   "source": [
    "copy1"
   ]
  },
  {
   "cell_type": "code",
   "execution_count": 53,
   "id": "3f2e413f",
   "metadata": {},
   "outputs": [],
   "source": [
    "def bfs():\n",
    "    x=states.pop(0)\n",
    "    print(x)\n",
    "    if 4 in x:\n",
    "        print('Goal reached')\n",
    "        return\n",
    "    if x[0]+x[1]>=j2 and x[0]>0:\n",
    "        if [x[0]-(j2-x[1]),j2] not in copy1:\n",
    "            states.append([x[0]-(j2-x[1]),j2])\n",
    "            copy1.append([x[0]-(j2-x[1]),j2])\n",
    "    if x[0]+x[1]>=j1 and x[1]>0:\n",
    "        if [j1,x[1]-(j1-x[0])] not in copy1:\n",
    "            states.append([j1,x[1]-(j1-x[0])])\n",
    "            copy1.append([j1,x[1]-(j1-x[0])])\n",
    "    if x[0]+x[1] <=j1 and x[1]>0:\n",
    "        if [x[1]+x[0],0] not in copy1:\n",
    "            states.append([x[1]+x[0],0])\n",
    "            copy1.append([x[1]+x[0],0])\n",
    "    if x[0]+x[1] <=j2 and x[0]>0:\n",
    "        if [0,x[0]+x[1]] not in copy1:\n",
    "            states.append([0,x[0]+x[1]])\n",
    "            copy1.append([0,x[0]+x[1]])\n",
    "    if x[0]>0:\n",
    "        if [0,x[1]] not in copy1:\n",
    "            states.append([0,x[1]])\n",
    "            copy1.append([0,x[1]])\n",
    "    if x[1]>0:\n",
    "        if [x[0],0] not in copy1:\n",
    "            states.append([x[0],0])\n",
    "            copy1.append([x[0],0])\n",
    "    if x[0]<=j1 :\n",
    "        if [j1,x[1]] not in copy1:\n",
    "            states.append([j1,x[1]])\n",
    "            copy1.append([j1,x[1]])\n",
    "    if x[1]<=j2:\n",
    "        if [x[0],j2] not in copy1:\n",
    "            states.append([x[0],j2])\n",
    "            copy1.append([x[0],j2])\n",
    "    bfs()    "
   ]
  },
  {
   "cell_type": "code",
   "execution_count": 54,
   "id": "80f257a0",
   "metadata": {},
   "outputs": [
    {
     "name": "stdout",
     "output_type": "stream",
     "text": [
      "[0, 0]\n",
      "[5, 0]\n",
      "[0, 3]\n",
      "[2, 3]\n",
      "[5, 3]\n",
      "[3, 0]\n",
      "[2, 0]\n",
      "[3, 3]\n",
      "[0, 2]\n",
      "[5, 1]\n",
      "[5, 2]\n",
      "[0, 1]\n",
      "[4, 3]\n",
      "Goal reached\n"
     ]
    }
   ],
   "source": [
    "states=[[0,0]]\n",
    "copy1=states.copy()\n",
    "j1=5\n",
    "j2=3\n",
    "bfs()"
   ]
  },
  {
   "cell_type": "code",
   "execution_count": 55,
   "id": "162c8663",
   "metadata": {},
   "outputs": [
    {
     "data": {
      "text/plain": [
       "[[0, 0],\n",
       " [5, 0],\n",
       " [0, 3],\n",
       " [2, 3],\n",
       " [5, 3],\n",
       " [3, 0],\n",
       " [2, 0],\n",
       " [3, 3],\n",
       " [0, 2],\n",
       " [5, 1],\n",
       " [5, 2],\n",
       " [0, 1],\n",
       " [4, 3],\n",
       " [1, 0]]"
      ]
     },
     "execution_count": 55,
     "metadata": {},
     "output_type": "execute_result"
    }
   ],
   "source": [
    "copy1"
   ]
  }
 ],
 "metadata": {
  "kernelspec": {
   "display_name": "Python 3 (ipykernel)",
   "language": "python",
   "name": "python3"
  },
  "language_info": {
   "codemirror_mode": {
    "name": "ipython",
    "version": 3
   },
   "file_extension": ".py",
   "mimetype": "text/x-python",
   "name": "python",
   "nbconvert_exporter": "python",
   "pygments_lexer": "ipython3",
   "version": "3.9.7"
  }
 },
 "nbformat": 4,
 "nbformat_minor": 5
}
