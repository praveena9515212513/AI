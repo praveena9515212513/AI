{
 "cells": [
  {
   "cell_type": "code",
   "execution_count": 1,
   "id": "e6088505",
   "metadata": {},
   "outputs": [],
   "source": [
    "graph = {'A':[['B','C'],1],'B':[['D','E'],0],'C':[['F','G'],0],\n",
    "        'D':[['H','I'],1],'E':[['J','K'],1],'F':[['L','M'],1],'G':[['N','O'],1],\n",
    "        'H':[[-1],0],'I':[[4],0],'J':[[2],0],'K':[[6],0],'L':[[-3],0],'M':[[-5],0],'N':[[0],0],'O':[[7],0]}"
   ]
  },
  {
   "cell_type": "code",
   "execution_count": 5,
   "id": "b18411cc",
   "metadata": {},
   "outputs": [],
   "source": [
    "def minmax(graph):\n",
    "    keys = list(graph.keys())[::-1]\n",
    "    for key in keys:\n",
    "        if type(graph[key][0][0]) == int:\n",
    "            if graph[key][1]==0:\n",
    "                graph[key]=min(graph[key][0])\n",
    "            else:\n",
    "                graph[key]=max(graph[key][0])\n",
    "        else:\n",
    "            l=[]\n",
    "            for i in graph[key][0]:\n",
    "                l.append(graph[i])\n",
    "            if graph[key][1]==0:\n",
    "                graph[key]=min(l)\n",
    "            else:\n",
    "                graph[key]=max(l)"
   ]
  },
  {
   "cell_type": "code",
   "execution_count": 6,
   "id": "10fcb014",
   "metadata": {},
   "outputs": [
    {
     "name": "stdout",
     "output_type": "stream",
     "text": [
      "{'A': 4, 'B': 4, 'C': -3, 'D': 4, 'E': 6, 'F': -3, 'G': 7, 'H': -1, 'I': 4, 'J': 2, 'K': 6, 'L': -3, 'M': -5, 'N': 0, 'O': 7}\n"
     ]
    }
   ],
   "source": [
    "minmax(graph)\n",
    "print(graph)"
   ]
  },
  {
   "cell_type": "code",
   "execution_count": null,
   "id": "c8594e6c",
   "metadata": {},
   "outputs": [],
   "source": []
  }
 ],
 "metadata": {
  "kernelspec": {
   "display_name": "Python 3 (ipykernel)",
   "language": "python",
   "name": "python3"
  },
  "language_info": {
   "codemirror_mode": {
    "name": "ipython",
    "version": 3
   },
   "file_extension": ".py",
   "mimetype": "text/x-python",
   "name": "python",
   "nbconvert_exporter": "python",
   "pygments_lexer": "ipython3",
   "version": "3.10.9"
  }
 },
 "nbformat": 4,
 "nbformat_minor": 5
}
