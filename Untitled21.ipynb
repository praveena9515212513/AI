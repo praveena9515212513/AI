{
 "cells": [
  {
   "cell_type": "code",
   "execution_count": 59,
   "id": "11aec69e",
   "metadata": {},
   "outputs": [],
   "source": [
    "def bidirectional(s,t,i):\n",
    "    s_queue.append(s)\n",
    "    t_queue.append(t)\n",
    "    s_visited[s]=True\n",
    "    t_visited[t]=True\n",
    "    while(len(s_queue) and len(t_queue)):\n",
    "        bfs('s')\n",
    "        bfs('t')\n",
    "        i=intersection(s_visited,t_visited)\n",
    "        if(i!=-1):\n",
    "            print(i,\" is the intersection point\")\n",
    "            return"
   ]
  },
  {
   "cell_type": "code",
   "execution_count": 68,
   "id": "526b2e5e",
   "metadata": {},
   "outputs": [],
   "source": [
    "def intersection(a,b):\n",
    "    global ip\n",
    "    for i in range(V):\n",
    "        if(a[i] and b[i]):\n",
    "            ip=i\n",
    "            return i\n",
    "        \n",
    "    return -1"
   ]
  },
  {
   "cell_type": "code",
   "execution_count": 69,
   "id": "4a09fc7e",
   "metadata": {},
   "outputs": [],
   "source": [
    "def bfs(p):\n",
    "    if p=='s':\n",
    "        current = s_queue.pop(0)\n",
    "        for i in graph[current]:\n",
    "            if(s_visited[i]==False):\n",
    "                s_queue.append(i)\n",
    "                s_visited[i]=True\n",
    "                s_parent[i]=current\n",
    "    elif p=='t':\n",
    "        current = t_queue.pop(0)\n",
    "        for i in graph[current]:\n",
    "            if(t_visited[i]==False):\n",
    "                t_queue.append(i)\n",
    "                t_visited[i]=True\n",
    "                t_parent[i]=current"
   ]
  },
  {
   "cell_type": "code",
   "execution_count": 99,
   "id": "5226ab2c",
   "metadata": {},
   "outputs": [
    {
     "name": "stdout",
     "output_type": "stream",
     "text": [
      "2  is the intersection point\n"
     ]
    }
   ],
   "source": [
    "src=1\n",
    "target=9\n",
    "i=-1\n",
    "V=12\n",
    "ip=0\n",
    "s_visited=[False]*V\n",
    "t_visited=[False]*V\n",
    "s_parent=[-1]*V\n",
    "t_parent=[-1]*V\n",
    "s_queue=[]\n",
    "t_queue=[]\n",
    "bidirectional(src,target,i)"
   ]
  },
  {
   "cell_type": "code",
   "execution_count": 96,
   "id": "46a71899",
   "metadata": {},
   "outputs": [
    {
     "name": "stdout",
     "output_type": "stream",
     "text": [
      "Enter edges: [[1,2],[1,5],[2,3],[2,4],[3,8],[3,9],[5,6],[5,7],[7,10],[7,11]]\n"
     ]
    }
   ],
   "source": [
    "from collections import defaultdict\n",
    "graph = defaultdict(list)\n",
    "edges = eval(input('Enter edges: '))\n",
    "for i in edges:\n",
    "  graph[i[0]].append(i[1])\n",
    "  graph[i[1]].append(i[0])"
   ]
  },
  {
   "cell_type": "code",
   "execution_count": 97,
   "id": "f9d503f5",
   "metadata": {},
   "outputs": [
    {
     "name": "stdout",
     "output_type": "stream",
     "text": [
      "[-1, -1, 1, 2, 2, 1, -1, -1, -1, -1, -1, -1]\n",
      "[-1, -1, 3, 9, -1, -1, -1, -1, 3, -1, -1, -1]\n",
      "2\n"
     ]
    }
   ],
   "source": [
    "print(s_parent)\n",
    "print(t_parent)\n",
    "print(ip)"
   ]
  },
  {
   "cell_type": "code",
   "execution_count": 100,
   "id": "f85be685",
   "metadata": {},
   "outputs": [
    {
     "name": "stdout",
     "output_type": "stream",
     "text": [
      "1 ->2 ->3 ->9 ->"
     ]
    }
   ],
   "source": [
    "t=ip\n",
    "ip=s_parent[ip]\n",
    "while(ip!=-1):\n",
    "    print(ip,'->',end='')\n",
    "    ip=s_parent[ip]\n",
    "while(t!=-1):\n",
    "    print(t,'->',end='')\n",
    "    t=t_parent[t]"
   ]
  },
  {
   "cell_type": "code",
   "execution_count": 78,
   "id": "7cbbc227",
   "metadata": {},
   "outputs": [
    {
     "name": "stdout",
     "output_type": "stream",
     "text": [
      "2\n",
      "3\n",
      "9\n"
     ]
    }
   ],
   "source": []
  },
  {
   "cell_type": "code",
   "execution_count": null,
   "id": "a1de9047",
   "metadata": {},
   "outputs": [],
   "source": []
  }
 ],
 "metadata": {
  "kernelspec": {
   "display_name": "Python 3 (ipykernel)",
   "language": "python",
   "name": "python3"
  },
  "language_info": {
   "codemirror_mode": {
    "name": "ipython",
    "version": 3
   },
   "file_extension": ".py",
   "mimetype": "text/x-python",
   "name": "python",
   "nbconvert_exporter": "python",
   "pygments_lexer": "ipython3",
   "version": "3.10.9"
  }
 },
 "nbformat": 4,
 "nbformat_minor": 5
}
